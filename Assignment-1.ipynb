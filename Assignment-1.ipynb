{
 "cells": [
  {
   "cell_type": "code",
   "execution_count": 5,
   "id": "7c0a37c4",
   "metadata": {},
   "outputs": [],
   "source": [
    "import pandas as pd\n",
    "\n",
    "import matplotlib.pyplot as plt\n",
    "\n",
    "from sklearn.cluster import KMeans\n",
    "\n",
    "from scipy.cluster.hierarchy import dendrogram, linkage"
   ]
  },
  {
   "cell_type": "code",
   "execution_count": 6,
   "id": "e752e91c",
   "metadata": {},
   "outputs": [],
   "source": [
    "data=pd.read_csv(\"Store Data.csv\")"
   ]
  },
  {
   "cell_type": "code",
   "execution_count": 7,
   "id": "4d288648",
   "metadata": {},
   "outputs": [
    {
     "data": {
      "text/html": [
       "<div>\n",
       "<style scoped>\n",
       "    .dataframe tbody tr th:only-of-type {\n",
       "        vertical-align: middle;\n",
       "    }\n",
       "\n",
       "    .dataframe tbody tr th {\n",
       "        vertical-align: top;\n",
       "    }\n",
       "\n",
       "    .dataframe thead th {\n",
       "        text-align: right;\n",
       "    }\n",
       "</style>\n",
       "<table border=\"1\" class=\"dataframe\">\n",
       "  <thead>\n",
       "    <tr style=\"text-align: right;\">\n",
       "      <th></th>\n",
       "      <th>indiv</th>\n",
       "      <th>group</th>\n",
       "      <th>timept</th>\n",
       "      <th>x</th>\n",
       "      <th>y</th>\n",
       "      <th>Status</th>\n",
       "      <th>StatusNum</th>\n",
       "    </tr>\n",
       "  </thead>\n",
       "  <tbody>\n",
       "    <tr>\n",
       "      <th>0</th>\n",
       "      <td>1.2</td>\n",
       "      <td>Dead</td>\n",
       "      <td>0</td>\n",
       "      <td>1.029504</td>\n",
       "      <td>8.1210</td>\n",
       "      <td>Dead</td>\n",
       "      <td>0</td>\n",
       "    </tr>\n",
       "    <tr>\n",
       "      <th>1</th>\n",
       "      <td>1.2</td>\n",
       "      <td>Dead</td>\n",
       "      <td>1</td>\n",
       "      <td>0.753744</td>\n",
       "      <td>7.3595</td>\n",
       "      <td>Dead</td>\n",
       "      <td>0</td>\n",
       "    </tr>\n",
       "    <tr>\n",
       "      <th>2</th>\n",
       "      <td>1.2</td>\n",
       "      <td>Dead</td>\n",
       "      <td>2</td>\n",
       "      <td>1.506007</td>\n",
       "      <td>6.3110</td>\n",
       "      <td>Dead</td>\n",
       "      <td>0</td>\n",
       "    </tr>\n",
       "    <tr>\n",
       "      <th>3</th>\n",
       "      <td>1.2</td>\n",
       "      <td>Dead</td>\n",
       "      <td>3</td>\n",
       "      <td>1.282567</td>\n",
       "      <td>6.8565</td>\n",
       "      <td>Dead</td>\n",
       "      <td>0</td>\n",
       "    </tr>\n",
       "    <tr>\n",
       "      <th>4</th>\n",
       "      <td>1.2</td>\n",
       "      <td>Dead</td>\n",
       "      <td>4</td>\n",
       "      <td>1.715615</td>\n",
       "      <td>7.2115</td>\n",
       "      <td>Dead</td>\n",
       "      <td>0</td>\n",
       "    </tr>\n",
       "    <tr>\n",
       "      <th>...</th>\n",
       "      <td>...</td>\n",
       "      <td>...</td>\n",
       "      <td>...</td>\n",
       "      <td>...</td>\n",
       "      <td>...</td>\n",
       "      <td>...</td>\n",
       "      <td>...</td>\n",
       "    </tr>\n",
       "    <tr>\n",
       "      <th>163</th>\n",
       "      <td>5.5</td>\n",
       "      <td>Dead</td>\n",
       "      <td>4</td>\n",
       "      <td>7.276801</td>\n",
       "      <td>7.1625</td>\n",
       "      <td>Dead</td>\n",
       "      <td>0</td>\n",
       "    </tr>\n",
       "    <tr>\n",
       "      <th>164</th>\n",
       "      <td>5.5</td>\n",
       "      <td>Dead</td>\n",
       "      <td>5</td>\n",
       "      <td>4.708071</td>\n",
       "      <td>4.6865</td>\n",
       "      <td>Dead</td>\n",
       "      <td>0</td>\n",
       "    </tr>\n",
       "    <tr>\n",
       "      <th>165</th>\n",
       "      <td>5.5</td>\n",
       "      <td>Dead</td>\n",
       "      <td>6</td>\n",
       "      <td>5.924959</td>\n",
       "      <td>4.2715</td>\n",
       "      <td>Dead</td>\n",
       "      <td>0</td>\n",
       "    </tr>\n",
       "    <tr>\n",
       "      <th>166</th>\n",
       "      <td>5.5</td>\n",
       "      <td>Dead</td>\n",
       "      <td>7</td>\n",
       "      <td>5.334228</td>\n",
       "      <td>3.0700</td>\n",
       "      <td>Dead</td>\n",
       "      <td>0</td>\n",
       "    </tr>\n",
       "    <tr>\n",
       "      <th>167</th>\n",
       "      <td>5.5</td>\n",
       "      <td>Dead</td>\n",
       "      <td>8</td>\n",
       "      <td>1.699336</td>\n",
       "      <td>1.1250</td>\n",
       "      <td>Dead</td>\n",
       "      <td>0</td>\n",
       "    </tr>\n",
       "  </tbody>\n",
       "</table>\n",
       "<p>168 rows × 7 columns</p>\n",
       "</div>"
      ],
      "text/plain": [
       "     indiv group  timept         x       y Status  StatusNum\n",
       "0      1.2  Dead       0  1.029504  8.1210   Dead          0\n",
       "1      1.2  Dead       1  0.753744  7.3595   Dead          0\n",
       "2      1.2  Dead       2  1.506007  6.3110   Dead          0\n",
       "3      1.2  Dead       3  1.282567  6.8565   Dead          0\n",
       "4      1.2  Dead       4  1.715615  7.2115   Dead          0\n",
       "..     ...   ...     ...       ...     ...    ...        ...\n",
       "163    5.5  Dead       4  7.276801  7.1625   Dead          0\n",
       "164    5.5  Dead       5  4.708071  4.6865   Dead          0\n",
       "165    5.5  Dead       6  5.924959  4.2715   Dead          0\n",
       "166    5.5  Dead       7  5.334228  3.0700   Dead          0\n",
       "167    5.5  Dead       8  1.699336  1.1250   Dead          0\n",
       "\n",
       "[168 rows x 7 columns]"
      ]
     },
     "execution_count": 7,
     "metadata": {},
     "output_type": "execute_result"
    }
   ],
   "source": [
    "data"
   ]
  },
  {
   "cell_type": "code",
   "execution_count": 8,
   "id": "acb29cee",
   "metadata": {},
   "outputs": [
    {
     "data": {
      "text/plain": [
       "pandas.core.frame.DataFrame"
      ]
     },
     "execution_count": 8,
     "metadata": {},
     "output_type": "execute_result"
    }
   ],
   "source": [
    "type(data)"
   ]
  },
  {
   "cell_type": "code",
   "execution_count": 9,
   "id": "8044dd5c",
   "metadata": {},
   "outputs": [],
   "source": [
    "del data[\"group\"]"
   ]
  },
  {
   "cell_type": "code",
   "execution_count": 10,
   "id": "f8b70c3e",
   "metadata": {},
   "outputs": [
    {
     "data": {
      "text/html": [
       "<div>\n",
       "<style scoped>\n",
       "    .dataframe tbody tr th:only-of-type {\n",
       "        vertical-align: middle;\n",
       "    }\n",
       "\n",
       "    .dataframe tbody tr th {\n",
       "        vertical-align: top;\n",
       "    }\n",
       "\n",
       "    .dataframe thead th {\n",
       "        text-align: right;\n",
       "    }\n",
       "</style>\n",
       "<table border=\"1\" class=\"dataframe\">\n",
       "  <thead>\n",
       "    <tr style=\"text-align: right;\">\n",
       "      <th></th>\n",
       "      <th>indiv</th>\n",
       "      <th>timept</th>\n",
       "      <th>x</th>\n",
       "      <th>y</th>\n",
       "      <th>Status</th>\n",
       "      <th>StatusNum</th>\n",
       "    </tr>\n",
       "  </thead>\n",
       "  <tbody>\n",
       "    <tr>\n",
       "      <th>0</th>\n",
       "      <td>1.2</td>\n",
       "      <td>0</td>\n",
       "      <td>1.029504</td>\n",
       "      <td>8.1210</td>\n",
       "      <td>Dead</td>\n",
       "      <td>0</td>\n",
       "    </tr>\n",
       "    <tr>\n",
       "      <th>1</th>\n",
       "      <td>1.2</td>\n",
       "      <td>1</td>\n",
       "      <td>0.753744</td>\n",
       "      <td>7.3595</td>\n",
       "      <td>Dead</td>\n",
       "      <td>0</td>\n",
       "    </tr>\n",
       "    <tr>\n",
       "      <th>2</th>\n",
       "      <td>1.2</td>\n",
       "      <td>2</td>\n",
       "      <td>1.506007</td>\n",
       "      <td>6.3110</td>\n",
       "      <td>Dead</td>\n",
       "      <td>0</td>\n",
       "    </tr>\n",
       "    <tr>\n",
       "      <th>3</th>\n",
       "      <td>1.2</td>\n",
       "      <td>3</td>\n",
       "      <td>1.282567</td>\n",
       "      <td>6.8565</td>\n",
       "      <td>Dead</td>\n",
       "      <td>0</td>\n",
       "    </tr>\n",
       "    <tr>\n",
       "      <th>4</th>\n",
       "      <td>1.2</td>\n",
       "      <td>4</td>\n",
       "      <td>1.715615</td>\n",
       "      <td>7.2115</td>\n",
       "      <td>Dead</td>\n",
       "      <td>0</td>\n",
       "    </tr>\n",
       "    <tr>\n",
       "      <th>...</th>\n",
       "      <td>...</td>\n",
       "      <td>...</td>\n",
       "      <td>...</td>\n",
       "      <td>...</td>\n",
       "      <td>...</td>\n",
       "      <td>...</td>\n",
       "    </tr>\n",
       "    <tr>\n",
       "      <th>163</th>\n",
       "      <td>5.5</td>\n",
       "      <td>4</td>\n",
       "      <td>7.276801</td>\n",
       "      <td>7.1625</td>\n",
       "      <td>Dead</td>\n",
       "      <td>0</td>\n",
       "    </tr>\n",
       "    <tr>\n",
       "      <th>164</th>\n",
       "      <td>5.5</td>\n",
       "      <td>5</td>\n",
       "      <td>4.708071</td>\n",
       "      <td>4.6865</td>\n",
       "      <td>Dead</td>\n",
       "      <td>0</td>\n",
       "    </tr>\n",
       "    <tr>\n",
       "      <th>165</th>\n",
       "      <td>5.5</td>\n",
       "      <td>6</td>\n",
       "      <td>5.924959</td>\n",
       "      <td>4.2715</td>\n",
       "      <td>Dead</td>\n",
       "      <td>0</td>\n",
       "    </tr>\n",
       "    <tr>\n",
       "      <th>166</th>\n",
       "      <td>5.5</td>\n",
       "      <td>7</td>\n",
       "      <td>5.334228</td>\n",
       "      <td>3.0700</td>\n",
       "      <td>Dead</td>\n",
       "      <td>0</td>\n",
       "    </tr>\n",
       "    <tr>\n",
       "      <th>167</th>\n",
       "      <td>5.5</td>\n",
       "      <td>8</td>\n",
       "      <td>1.699336</td>\n",
       "      <td>1.1250</td>\n",
       "      <td>Dead</td>\n",
       "      <td>0</td>\n",
       "    </tr>\n",
       "  </tbody>\n",
       "</table>\n",
       "<p>168 rows × 6 columns</p>\n",
       "</div>"
      ],
      "text/plain": [
       "     indiv  timept         x       y Status  StatusNum\n",
       "0      1.2       0  1.029504  8.1210   Dead          0\n",
       "1      1.2       1  0.753744  7.3595   Dead          0\n",
       "2      1.2       2  1.506007  6.3110   Dead          0\n",
       "3      1.2       3  1.282567  6.8565   Dead          0\n",
       "4      1.2       4  1.715615  7.2115   Dead          0\n",
       "..     ...     ...       ...     ...    ...        ...\n",
       "163    5.5       4  7.276801  7.1625   Dead          0\n",
       "164    5.5       5  4.708071  4.6865   Dead          0\n",
       "165    5.5       6  5.924959  4.2715   Dead          0\n",
       "166    5.5       7  5.334228  3.0700   Dead          0\n",
       "167    5.5       8  1.699336  1.1250   Dead          0\n",
       "\n",
       "[168 rows x 6 columns]"
      ]
     },
     "execution_count": 10,
     "metadata": {},
     "output_type": "execute_result"
    }
   ],
   "source": [
    "data"
   ]
  },
  {
   "cell_type": "code",
   "execution_count": 12,
   "id": "5a3a6c11",
   "metadata": {},
   "outputs": [],
   "source": [
    "del data[\"Status\"]"
   ]
  },
  {
   "cell_type": "code",
   "execution_count": 13,
   "id": "ec8b5b06",
   "metadata": {},
   "outputs": [
    {
     "data": {
      "text/html": [
       "<div>\n",
       "<style scoped>\n",
       "    .dataframe tbody tr th:only-of-type {\n",
       "        vertical-align: middle;\n",
       "    }\n",
       "\n",
       "    .dataframe tbody tr th {\n",
       "        vertical-align: top;\n",
       "    }\n",
       "\n",
       "    .dataframe thead th {\n",
       "        text-align: right;\n",
       "    }\n",
       "</style>\n",
       "<table border=\"1\" class=\"dataframe\">\n",
       "  <thead>\n",
       "    <tr style=\"text-align: right;\">\n",
       "      <th></th>\n",
       "      <th>indiv</th>\n",
       "      <th>timept</th>\n",
       "      <th>x</th>\n",
       "      <th>y</th>\n",
       "      <th>StatusNum</th>\n",
       "    </tr>\n",
       "  </thead>\n",
       "  <tbody>\n",
       "    <tr>\n",
       "      <th>0</th>\n",
       "      <td>1.2</td>\n",
       "      <td>0</td>\n",
       "      <td>1.029504</td>\n",
       "      <td>8.1210</td>\n",
       "      <td>0</td>\n",
       "    </tr>\n",
       "    <tr>\n",
       "      <th>1</th>\n",
       "      <td>1.2</td>\n",
       "      <td>1</td>\n",
       "      <td>0.753744</td>\n",
       "      <td>7.3595</td>\n",
       "      <td>0</td>\n",
       "    </tr>\n",
       "    <tr>\n",
       "      <th>2</th>\n",
       "      <td>1.2</td>\n",
       "      <td>2</td>\n",
       "      <td>1.506007</td>\n",
       "      <td>6.3110</td>\n",
       "      <td>0</td>\n",
       "    </tr>\n",
       "    <tr>\n",
       "      <th>3</th>\n",
       "      <td>1.2</td>\n",
       "      <td>3</td>\n",
       "      <td>1.282567</td>\n",
       "      <td>6.8565</td>\n",
       "      <td>0</td>\n",
       "    </tr>\n",
       "    <tr>\n",
       "      <th>4</th>\n",
       "      <td>1.2</td>\n",
       "      <td>4</td>\n",
       "      <td>1.715615</td>\n",
       "      <td>7.2115</td>\n",
       "      <td>0</td>\n",
       "    </tr>\n",
       "    <tr>\n",
       "      <th>...</th>\n",
       "      <td>...</td>\n",
       "      <td>...</td>\n",
       "      <td>...</td>\n",
       "      <td>...</td>\n",
       "      <td>...</td>\n",
       "    </tr>\n",
       "    <tr>\n",
       "      <th>163</th>\n",
       "      <td>5.5</td>\n",
       "      <td>4</td>\n",
       "      <td>7.276801</td>\n",
       "      <td>7.1625</td>\n",
       "      <td>0</td>\n",
       "    </tr>\n",
       "    <tr>\n",
       "      <th>164</th>\n",
       "      <td>5.5</td>\n",
       "      <td>5</td>\n",
       "      <td>4.708071</td>\n",
       "      <td>4.6865</td>\n",
       "      <td>0</td>\n",
       "    </tr>\n",
       "    <tr>\n",
       "      <th>165</th>\n",
       "      <td>5.5</td>\n",
       "      <td>6</td>\n",
       "      <td>5.924959</td>\n",
       "      <td>4.2715</td>\n",
       "      <td>0</td>\n",
       "    </tr>\n",
       "    <tr>\n",
       "      <th>166</th>\n",
       "      <td>5.5</td>\n",
       "      <td>7</td>\n",
       "      <td>5.334228</td>\n",
       "      <td>3.0700</td>\n",
       "      <td>0</td>\n",
       "    </tr>\n",
       "    <tr>\n",
       "      <th>167</th>\n",
       "      <td>5.5</td>\n",
       "      <td>8</td>\n",
       "      <td>1.699336</td>\n",
       "      <td>1.1250</td>\n",
       "      <td>0</td>\n",
       "    </tr>\n",
       "  </tbody>\n",
       "</table>\n",
       "<p>168 rows × 5 columns</p>\n",
       "</div>"
      ],
      "text/plain": [
       "     indiv  timept         x       y  StatusNum\n",
       "0      1.2       0  1.029504  8.1210          0\n",
       "1      1.2       1  0.753744  7.3595          0\n",
       "2      1.2       2  1.506007  6.3110          0\n",
       "3      1.2       3  1.282567  6.8565          0\n",
       "4      1.2       4  1.715615  7.2115          0\n",
       "..     ...     ...       ...     ...        ...\n",
       "163    5.5       4  7.276801  7.1625          0\n",
       "164    5.5       5  4.708071  4.6865          0\n",
       "165    5.5       6  5.924959  4.2715          0\n",
       "166    5.5       7  5.334228  3.0700          0\n",
       "167    5.5       8  1.699336  1.1250          0\n",
       "\n",
       "[168 rows x 5 columns]"
      ]
     },
     "execution_count": 13,
     "metadata": {},
     "output_type": "execute_result"
    }
   ],
   "source": [
    "data"
   ]
  },
  {
   "cell_type": "code",
   "execution_count": 14,
   "id": "8629b764",
   "metadata": {},
   "outputs": [
    {
     "data": {
      "image/png": "[encoded data removed]",
      "text/plain": [
       "<Figure size 432x288 with 1 Axes>"
      ]
     },
     "metadata": {
      "needs_background": "light"
     },
     "output_type": "display_data"
    }
   ],
   "source": [
    "plt.scatter(data.x,data.y)\n",
    "plt.show()"
   ]
  },
  {
   "cell_type": "code",
   "execution_count": 15,
   "id": "f7204461",
   "metadata": {},
   "outputs": [],
   "source": [
    "a=KMeans(n_clusters=7)"
   ]
  },
  {
   "cell_type": "code",
   "execution_count": 16,
   "id": "3fc72a79",
   "metadata": {},
   "outputs": [
    {
     "data": {
      "text/plain": [
       "KMeans(n_clusters=7)"
      ]
     },
     "execution_count": 16,
     "metadata": {},
     "output_type": "execute_result"
    }
   ],
   "source": [
    "a.fit(data)"
   ]
  },
  {
   "cell_type": "code",
   "execution_count": 17,
   "id": "8c968eca",
   "metadata": {},
   "outputs": [
    {
     "data": {
      "text/plain": [
       "[]"
      ]
     },
     "execution_count": 17,
     "metadata": {},
     "output_type": "execute_result"
    },
    {
     "data": {
      "image/png": "[encoded data removed]",
      "text/plain": [
       "<Figure size 432x288 with 1 Axes>"
      ]
     },
     "metadata": {
      "needs_background": "light"
     },
     "output_type": "display_data"
    }
   ],
   "source": [
    "plt.scatter(data.x,data.y)\n",
    "plt.plot()"
   ]
  },
  {
   "cell_type": "code",
   "execution_count": 18,
   "id": "21f4bec7",
   "metadata": {},
   "outputs": [
    {
     "data": {
      "text/plain": [
       "[]"
      ]
     },
     "execution_count": 18,
     "metadata": {},
     "output_type": "execute_result"
    },
    {
     "data": {
      "image/png": "[encoded data removed]",
      "text/plain": [
       "<Figure size 432x288 with 1 Axes>"
      ]
     },
     "metadata": {
      "needs_background": "light"
     },
     "output_type": "display_data"
    }
   ],
   "source": [
    "plt.scatter(data.x,data.y,c = a.labels_)\n",
    "plt.plot()"
   ]
  },
  {
   "cell_type": "markdown",
   "id": "48d90128",
   "metadata": {},
   "source": [
    "#                                           #Summary \n",
    "\n",
    "* import pandas as pd.# we import pandas for working we data set \n",
    "\n",
    "*import matplotlib.pyplot as plt # we import matplotlib libreary it allows users to create numerous and diverse plot types\n",
    "\n",
    "*from sklearn.cluster import KMeans# we use KMeans libreary for clustring with dataset.\n",
    "\n",
    "* read_csv    #we use \"read_csv\" for imports a CSV file to DataFrame format.\n",
    "\n",
    "*type()# we use type() function to get type of function.\n",
    "\n",
    "*del data[\".....\"] # we use \"del\" to delete particular coloum.\n",
    "\n",
    "*plt.scatter(data.x,data.y) # we scatter to explore the relationship between two variables.\n",
    "\n",
    "* plt.show() #is used to display all figures.\n",
    "\n",
    "*a=KMeans(n_clusters=7)#The number of clusters to form as well as the number of centroids.\n",
    "\n",
    "*plt.scatter(data.x,data.y,c = a.labels_)# we use lables to asign color to all centroid.\n"
   ]
  },
  {
   "cell_type": "code",
   "execution_count": null,
   "id": "ae74f2dc",
   "metadata": {},
   "outputs": [],
   "source": [
    "import pandas as pd"
   ]
  },
  {
   "cell_type": "code",
   "execution_count": 20,
   "id": "8067f912",
   "metadata": {},
   "outputs": [],
   "source": [
    "data= [[11,10,2,8,0],[9,0,70,9,2],[0,9,3,6,11],[6,5,9,0,8],[3,7,6,11,8]]\n"
   ]
  },
  {
   "cell_type": "code",
   "execution_count": 21,
   "id": "6f046126",
   "metadata": {},
   "outputs": [],
   "source": [
    "points = [\"a\",\"b\",\"c\",\"d\",\"e\"]\n",
    "\n"
   ]
  },
  {
   "cell_type": "code",
   "execution_count": 22,
   "id": "a3c9d8e7",
   "metadata": {},
   "outputs": [],
   "source": [
    "df1 = pd.DataFrame(data,columns=[\"a\",\"b\",\"c\",\"d\",\"e\"], index=points)\n"
   ]
  },
  {
   "cell_type": "code",
   "execution_count": 23,
   "id": "5ec9913f",
   "metadata": {},
   "outputs": [
    {
     "data": {
      "text/html": [
       "<div>\n",
       "<style scoped>\n",
       "    .dataframe tbody tr th:only-of-type {\n",
       "        vertical-align: middle;\n",
       "    }\n",
       "\n",
       "    .dataframe tbody tr th {\n",
       "        vertical-align: top;\n",
       "    }\n",
       "\n",
       "    .dataframe thead th {\n",
       "        text-align: right;\n",
       "    }\n",
       "</style>\n",
       "<table border=\"1\" class=\"dataframe\">\n",
       "  <thead>\n",
       "    <tr style=\"text-align: right;\">\n",
       "      <th></th>\n",
       "      <th>a</th>\n",
       "      <th>b</th>\n",
       "      <th>c</th>\n",
       "      <th>d</th>\n",
       "      <th>e</th>\n",
       "    </tr>\n",
       "  </thead>\n",
       "  <tbody>\n",
       "    <tr>\n",
       "      <th>a</th>\n",
       "      <td>11</td>\n",
       "      <td>10</td>\n",
       "      <td>2</td>\n",
       "      <td>8</td>\n",
       "      <td>0</td>\n",
       "    </tr>\n",
       "    <tr>\n",
       "      <th>b</th>\n",
       "      <td>9</td>\n",
       "      <td>0</td>\n",
       "      <td>70</td>\n",
       "      <td>9</td>\n",
       "      <td>2</td>\n",
       "    </tr>\n",
       "    <tr>\n",
       "      <th>c</th>\n",
       "      <td>0</td>\n",
       "      <td>9</td>\n",
       "      <td>3</td>\n",
       "      <td>6</td>\n",
       "      <td>11</td>\n",
       "    </tr>\n",
       "    <tr>\n",
       "      <th>d</th>\n",
       "      <td>6</td>\n",
       "      <td>5</td>\n",
       "      <td>9</td>\n",
       "      <td>0</td>\n",
       "      <td>8</td>\n",
       "    </tr>\n",
       "    <tr>\n",
       "      <th>e</th>\n",
       "      <td>3</td>\n",
       "      <td>7</td>\n",
       "      <td>6</td>\n",
       "      <td>11</td>\n",
       "      <td>8</td>\n",
       "    </tr>\n",
       "  </tbody>\n",
       "</table>\n",
       "</div>"
      ],
      "text/plain": [
       "    a   b   c   d   e\n",
       "a  11  10   2   8   0\n",
       "b   9   0  70   9   2\n",
       "c   0   9   3   6  11\n",
       "d   6   5   9   0   8\n",
       "e   3   7   6  11   8"
      ]
     },
     "execution_count": 23,
     "metadata": {},
     "output_type": "execute_result"
    }
   ],
   "source": [
    "\n",
    "df1"
   ]
  },
  {
   "cell_type": "code",
   "execution_count": 24,
   "id": "707c1b5f",
   "metadata": {},
   "outputs": [
    {
     "data": {
      "image/png": "[encoded data removed]",
      "text/plain": [
       "<Figure size 432x288 with 1 Axes>"
      ]
     },
     "metadata": {
      "needs_background": "light"
     },
     "output_type": "display_data"
    }
   ],
   "source": [
    "linkage_data = linkage(df1, method='ward', metric='euclidean')\n",
    "dendrogram(linkage_data)\n",
    "\n",
    "plt.show()"
   ]
  },
  {
   "cell_type": "code",
   "execution_count": 25,
   "id": "1c5a1aec",
   "metadata": {},
   "outputs": [
    {
     "data": {
      "image/png": "[encoded data removed]",
      "text/plain": [
       "<Figure size 432x288 with 1 Axes>"
      ]
     },
     "metadata": {
      "needs_background": "light"
     },
     "output_type": "display_data"
    }
   ],
   "source": [
    "linkage_data = linkage(df1, method='complete', metric='euclidean')\n",
    "dendrogram(linkage_data)\n",
    "\n",
    "plt.show()\n",
    " "
   ]
  },
  {
   "cell_type": "code",
   "execution_count": 26,
   "id": "5cb530e6",
   "metadata": {},
   "outputs": [
    {
     "data": {
      "image/png": "[encoded data removed]",
      "text/plain": [
       "<Figure size 432x288 with 1 Axes>"
      ]
     },
     "metadata": {
      "needs_background": "light"
     },
     "output_type": "display_data"
    }
   ],
   "source": [
    "linkage_data = linkage(df1, method='single', metric='euclidean')\n",
    "dendrogram(linkage_data)\n",
    "\n",
    "plt.show()"
   ]
  },
  {
   "cell_type": "code",
   "execution_count": 27,
   "id": "e419c3fd",
   "metadata": {},
   "outputs": [
    {
     "data": {
      "image/png": "[encoded data removed]",
      "text/plain": [
       "<Figure size 432x288 with 1 Axes>"
      ]
     },
     "metadata": {
      "needs_background": "light"
     },
     "output_type": "display_data"
    }
   ],
   "source": [
    "linkage_data = linkage(df1, method='average', metric='euclidean')\n",
    "dendrogram(linkage_data)\n",
    "\n",
    "plt.show()\n"
   ]
  },
  {
   "cell_type": "markdown",
   "id": "aa976f85",
   "metadata": {},
   "source": [
    "#                                                Summary \n",
    "    \n",
    "*pd.DataFrame. #A Data frame is a two-dimensional data structure,we allow data to convert in a tabular form in rows a\n",
    "    #nd columns\n",
    "    \n",
    "*linkage(df1, method='ward', metric='euclidean')dendrogram(linkage_data) #this method is used to minimize the variance between clusters\n",
    "\n",
    "*linkage(df1, method='complete', metric='euclidean')dendrogram(linkage_data)#  This method computes dissimilarities between all pairs of elements in the two clusters.\n",
    "\n",
    "*linkage(df1, method='single', metric='euclidean')dendrogram(linkage_data)#this method is for clustring distance between two \n",
    "  #clusters is determined by a single pair of elements\n",
    "    \n",
    "*linkage(df1, method='average', metric='euclidean')dendrogram(linkage_data)#ths method avoids the extremes of either large or tight compact clusters\n",
    "\n"
   ]
  },
  {
   "cell_type": "code",
   "execution_count": 28,
   "id": "46a906e0",
   "metadata": {},
   "outputs": [],
   "source": [
    "import pandas as pd\n",
    "import numpy as np\n",
    "import matplotlib.pyplot as plt\n",
    "%matplotlib inline"
   ]
  },
  {
   "cell_type": "code",
   "execution_count": 29,
   "id": "f4eef4ac",
   "metadata": {},
   "outputs": [],
   "source": [
    "data1=pd.read_csv(\"Store Data.csv\")"
   ]
  },
  {
   "cell_type": "code",
   "execution_count": 30,
   "id": "ea6321e3",
   "metadata": {},
   "outputs": [
    {
     "data": {
      "text/html": [
       "<div>\n",
       "<style scoped>\n",
       "    .dataframe tbody tr th:only-of-type {\n",
       "        vertical-align: middle;\n",
       "    }\n",
       "\n",
       "    .dataframe tbody tr th {\n",
       "        vertical-align: top;\n",
       "    }\n",
       "\n",
       "    .dataframe thead th {\n",
       "        text-align: right;\n",
       "    }\n",
       "</style>\n",
       "<table border=\"1\" class=\"dataframe\">\n",
       "  <thead>\n",
       "    <tr style=\"text-align: right;\">\n",
       "      <th></th>\n",
       "      <th>indiv</th>\n",
       "      <th>group</th>\n",
       "      <th>timept</th>\n",
       "      <th>x</th>\n",
       "      <th>y</th>\n",
       "      <th>Status</th>\n",
       "      <th>StatusNum</th>\n",
       "    </tr>\n",
       "  </thead>\n",
       "  <tbody>\n",
       "    <tr>\n",
       "      <th>0</th>\n",
       "      <td>1.2</td>\n",
       "      <td>Dead</td>\n",
       "      <td>0</td>\n",
       "      <td>1.029504</td>\n",
       "      <td>8.1210</td>\n",
       "      <td>Dead</td>\n",
       "      <td>0</td>\n",
       "    </tr>\n",
       "    <tr>\n",
       "      <th>1</th>\n",
       "      <td>1.2</td>\n",
       "      <td>Dead</td>\n",
       "      <td>1</td>\n",
       "      <td>0.753744</td>\n",
       "      <td>7.3595</td>\n",
       "      <td>Dead</td>\n",
       "      <td>0</td>\n",
       "    </tr>\n",
       "    <tr>\n",
       "      <th>2</th>\n",
       "      <td>1.2</td>\n",
       "      <td>Dead</td>\n",
       "      <td>2</td>\n",
       "      <td>1.506007</td>\n",
       "      <td>6.3110</td>\n",
       "      <td>Dead</td>\n",
       "      <td>0</td>\n",
       "    </tr>\n",
       "    <tr>\n",
       "      <th>3</th>\n",
       "      <td>1.2</td>\n",
       "      <td>Dead</td>\n",
       "      <td>3</td>\n",
       "      <td>1.282567</td>\n",
       "      <td>6.8565</td>\n",
       "      <td>Dead</td>\n",
       "      <td>0</td>\n",
       "    </tr>\n",
       "    <tr>\n",
       "      <th>4</th>\n",
       "      <td>1.2</td>\n",
       "      <td>Dead</td>\n",
       "      <td>4</td>\n",
       "      <td>1.715615</td>\n",
       "      <td>7.2115</td>\n",
       "      <td>Dead</td>\n",
       "      <td>0</td>\n",
       "    </tr>\n",
       "    <tr>\n",
       "      <th>...</th>\n",
       "      <td>...</td>\n",
       "      <td>...</td>\n",
       "      <td>...</td>\n",
       "      <td>...</td>\n",
       "      <td>...</td>\n",
       "      <td>...</td>\n",
       "      <td>...</td>\n",
       "    </tr>\n",
       "    <tr>\n",
       "      <th>163</th>\n",
       "      <td>5.5</td>\n",
       "      <td>Dead</td>\n",
       "      <td>4</td>\n",
       "      <td>7.276801</td>\n",
       "      <td>7.1625</td>\n",
       "      <td>Dead</td>\n",
       "      <td>0</td>\n",
       "    </tr>\n",
       "    <tr>\n",
       "      <th>164</th>\n",
       "      <td>5.5</td>\n",
       "      <td>Dead</td>\n",
       "      <td>5</td>\n",
       "      <td>4.708071</td>\n",
       "      <td>4.6865</td>\n",
       "      <td>Dead</td>\n",
       "      <td>0</td>\n",
       "    </tr>\n",
       "    <tr>\n",
       "      <th>165</th>\n",
       "      <td>5.5</td>\n",
       "      <td>Dead</td>\n",
       "      <td>6</td>\n",
       "      <td>5.924959</td>\n",
       "      <td>4.2715</td>\n",
       "      <td>Dead</td>\n",
       "      <td>0</td>\n",
       "    </tr>\n",
       "    <tr>\n",
       "      <th>166</th>\n",
       "      <td>5.5</td>\n",
       "      <td>Dead</td>\n",
       "      <td>7</td>\n",
       "      <td>5.334228</td>\n",
       "      <td>3.0700</td>\n",
       "      <td>Dead</td>\n",
       "      <td>0</td>\n",
       "    </tr>\n",
       "    <tr>\n",
       "      <th>167</th>\n",
       "      <td>5.5</td>\n",
       "      <td>Dead</td>\n",
       "      <td>8</td>\n",
       "      <td>1.699336</td>\n",
       "      <td>1.1250</td>\n",
       "      <td>Dead</td>\n",
       "      <td>0</td>\n",
       "    </tr>\n",
       "  </tbody>\n",
       "</table>\n",
       "<p>168 rows × 7 columns</p>\n",
       "</div>"
      ],
      "text/plain": [
       "     indiv group  timept         x       y Status  StatusNum\n",
       "0      1.2  Dead       0  1.029504  8.1210   Dead          0\n",
       "1      1.2  Dead       1  0.753744  7.3595   Dead          0\n",
       "2      1.2  Dead       2  1.506007  6.3110   Dead          0\n",
       "3      1.2  Dead       3  1.282567  6.8565   Dead          0\n",
       "4      1.2  Dead       4  1.715615  7.2115   Dead          0\n",
       "..     ...   ...     ...       ...     ...    ...        ...\n",
       "163    5.5  Dead       4  7.276801  7.1625   Dead          0\n",
       "164    5.5  Dead       5  4.708071  4.6865   Dead          0\n",
       "165    5.5  Dead       6  5.924959  4.2715   Dead          0\n",
       "166    5.5  Dead       7  5.334228  3.0700   Dead          0\n",
       "167    5.5  Dead       8  1.699336  1.1250   Dead          0\n",
       "\n",
       "[168 rows x 7 columns]"
      ]
     },
     "execution_count": 30,
     "metadata": {},
     "output_type": "execute_result"
    }
   ],
   "source": [
    "data1"
   ]
  },
  {
   "cell_type": "code",
   "execution_count": 31,
   "id": "178bdb79",
   "metadata": {},
   "outputs": [],
   "source": [
    "del data1[\"group\"]"
   ]
  },
  {
   "cell_type": "code",
   "execution_count": 32,
   "id": "7e1cfd8c",
   "metadata": {},
   "outputs": [
    {
     "data": {
      "text/html": [
       "<div>\n",
       "<style scoped>\n",
       "    .dataframe tbody tr th:only-of-type {\n",
       "        vertical-align: middle;\n",
       "    }\n",
       "\n",
       "    .dataframe tbody tr th {\n",
       "        vertical-align: top;\n",
       "    }\n",
       "\n",
       "    .dataframe thead th {\n",
       "        text-align: right;\n",
       "    }\n",
       "</style>\n",
       "<table border=\"1\" class=\"dataframe\">\n",
       "  <thead>\n",
       "    <tr style=\"text-align: right;\">\n",
       "      <th></th>\n",
       "      <th>indiv</th>\n",
       "      <th>timept</th>\n",
       "      <th>x</th>\n",
       "      <th>y</th>\n",
       "      <th>Status</th>\n",
       "      <th>StatusNum</th>\n",
       "    </tr>\n",
       "  </thead>\n",
       "  <tbody>\n",
       "    <tr>\n",
       "      <th>0</th>\n",
       "      <td>1.2</td>\n",
       "      <td>0</td>\n",
       "      <td>1.029504</td>\n",
       "      <td>8.1210</td>\n",
       "      <td>Dead</td>\n",
       "      <td>0</td>\n",
       "    </tr>\n",
       "    <tr>\n",
       "      <th>1</th>\n",
       "      <td>1.2</td>\n",
       "      <td>1</td>\n",
       "      <td>0.753744</td>\n",
       "      <td>7.3595</td>\n",
       "      <td>Dead</td>\n",
       "      <td>0</td>\n",
       "    </tr>\n",
       "    <tr>\n",
       "      <th>2</th>\n",
       "      <td>1.2</td>\n",
       "      <td>2</td>\n",
       "      <td>1.506007</td>\n",
       "      <td>6.3110</td>\n",
       "      <td>Dead</td>\n",
       "      <td>0</td>\n",
       "    </tr>\n",
       "    <tr>\n",
       "      <th>3</th>\n",
       "      <td>1.2</td>\n",
       "      <td>3</td>\n",
       "      <td>1.282567</td>\n",
       "      <td>6.8565</td>\n",
       "      <td>Dead</td>\n",
       "      <td>0</td>\n",
       "    </tr>\n",
       "    <tr>\n",
       "      <th>4</th>\n",
       "      <td>1.2</td>\n",
       "      <td>4</td>\n",
       "      <td>1.715615</td>\n",
       "      <td>7.2115</td>\n",
       "      <td>Dead</td>\n",
       "      <td>0</td>\n",
       "    </tr>\n",
       "    <tr>\n",
       "      <th>...</th>\n",
       "      <td>...</td>\n",
       "      <td>...</td>\n",
       "      <td>...</td>\n",
       "      <td>...</td>\n",
       "      <td>...</td>\n",
       "      <td>...</td>\n",
       "    </tr>\n",
       "    <tr>\n",
       "      <th>163</th>\n",
       "      <td>5.5</td>\n",
       "      <td>4</td>\n",
       "      <td>7.276801</td>\n",
       "      <td>7.1625</td>\n",
       "      <td>Dead</td>\n",
       "      <td>0</td>\n",
       "    </tr>\n",
       "    <tr>\n",
       "      <th>164</th>\n",
       "      <td>5.5</td>\n",
       "      <td>5</td>\n",
       "      <td>4.708071</td>\n",
       "      <td>4.6865</td>\n",
       "      <td>Dead</td>\n",
       "      <td>0</td>\n",
       "    </tr>\n",
       "    <tr>\n",
       "      <th>165</th>\n",
       "      <td>5.5</td>\n",
       "      <td>6</td>\n",
       "      <td>5.924959</td>\n",
       "      <td>4.2715</td>\n",
       "      <td>Dead</td>\n",
       "      <td>0</td>\n",
       "    </tr>\n",
       "    <tr>\n",
       "      <th>166</th>\n",
       "      <td>5.5</td>\n",
       "      <td>7</td>\n",
       "      <td>5.334228</td>\n",
       "      <td>3.0700</td>\n",
       "      <td>Dead</td>\n",
       "      <td>0</td>\n",
       "    </tr>\n",
       "    <tr>\n",
       "      <th>167</th>\n",
       "      <td>5.5</td>\n",
       "      <td>8</td>\n",
       "      <td>1.699336</td>\n",
       "      <td>1.1250</td>\n",
       "      <td>Dead</td>\n",
       "      <td>0</td>\n",
       "    </tr>\n",
       "  </tbody>\n",
       "</table>\n",
       "<p>168 rows × 6 columns</p>\n",
       "</div>"
      ],
      "text/plain": [
       "     indiv  timept         x       y Status  StatusNum\n",
       "0      1.2       0  1.029504  8.1210   Dead          0\n",
       "1      1.2       1  0.753744  7.3595   Dead          0\n",
       "2      1.2       2  1.506007  6.3110   Dead          0\n",
       "3      1.2       3  1.282567  6.8565   Dead          0\n",
       "4      1.2       4  1.715615  7.2115   Dead          0\n",
       "..     ...     ...       ...     ...    ...        ...\n",
       "163    5.5       4  7.276801  7.1625   Dead          0\n",
       "164    5.5       5  4.708071  4.6865   Dead          0\n",
       "165    5.5       6  5.924959  4.2715   Dead          0\n",
       "166    5.5       7  5.334228  3.0700   Dead          0\n",
       "167    5.5       8  1.699336  1.1250   Dead          0\n",
       "\n",
       "[168 rows x 6 columns]"
      ]
     },
     "execution_count": 32,
     "metadata": {},
     "output_type": "execute_result"
    }
   ],
   "source": [
    "data1"
   ]
  },
  {
   "cell_type": "code",
   "execution_count": 33,
   "id": "de3cc249",
   "metadata": {},
   "outputs": [],
   "source": [
    "del data1[\"Status\"]"
   ]
  },
  {
   "cell_type": "code",
   "execution_count": 34,
   "id": "adb38562",
   "metadata": {},
   "outputs": [
    {
     "data": {
      "text/html": [
       "<div>\n",
       "<style scoped>\n",
       "    .dataframe tbody tr th:only-of-type {\n",
       "        vertical-align: middle;\n",
       "    }\n",
       "\n",
       "    .dataframe tbody tr th {\n",
       "        vertical-align: top;\n",
       "    }\n",
       "\n",
       "    .dataframe thead th {\n",
       "        text-align: right;\n",
       "    }\n",
       "</style>\n",
       "<table border=\"1\" class=\"dataframe\">\n",
       "  <thead>\n",
       "    <tr style=\"text-align: right;\">\n",
       "      <th></th>\n",
       "      <th>indiv</th>\n",
       "      <th>timept</th>\n",
       "      <th>x</th>\n",
       "      <th>y</th>\n",
       "      <th>StatusNum</th>\n",
       "    </tr>\n",
       "  </thead>\n",
       "  <tbody>\n",
       "    <tr>\n",
       "      <th>0</th>\n",
       "      <td>1.2</td>\n",
       "      <td>0</td>\n",
       "      <td>1.029504</td>\n",
       "      <td>8.1210</td>\n",
       "      <td>0</td>\n",
       "    </tr>\n",
       "    <tr>\n",
       "      <th>1</th>\n",
       "      <td>1.2</td>\n",
       "      <td>1</td>\n",
       "      <td>0.753744</td>\n",
       "      <td>7.3595</td>\n",
       "      <td>0</td>\n",
       "    </tr>\n",
       "    <tr>\n",
       "      <th>2</th>\n",
       "      <td>1.2</td>\n",
       "      <td>2</td>\n",
       "      <td>1.506007</td>\n",
       "      <td>6.3110</td>\n",
       "      <td>0</td>\n",
       "    </tr>\n",
       "    <tr>\n",
       "      <th>3</th>\n",
       "      <td>1.2</td>\n",
       "      <td>3</td>\n",
       "      <td>1.282567</td>\n",
       "      <td>6.8565</td>\n",
       "      <td>0</td>\n",
       "    </tr>\n",
       "    <tr>\n",
       "      <th>4</th>\n",
       "      <td>1.2</td>\n",
       "      <td>4</td>\n",
       "      <td>1.715615</td>\n",
       "      <td>7.2115</td>\n",
       "      <td>0</td>\n",
       "    </tr>\n",
       "    <tr>\n",
       "      <th>...</th>\n",
       "      <td>...</td>\n",
       "      <td>...</td>\n",
       "      <td>...</td>\n",
       "      <td>...</td>\n",
       "      <td>...</td>\n",
       "    </tr>\n",
       "    <tr>\n",
       "      <th>163</th>\n",
       "      <td>5.5</td>\n",
       "      <td>4</td>\n",
       "      <td>7.276801</td>\n",
       "      <td>7.1625</td>\n",
       "      <td>0</td>\n",
       "    </tr>\n",
       "    <tr>\n",
       "      <th>164</th>\n",
       "      <td>5.5</td>\n",
       "      <td>5</td>\n",
       "      <td>4.708071</td>\n",
       "      <td>4.6865</td>\n",
       "      <td>0</td>\n",
       "    </tr>\n",
       "    <tr>\n",
       "      <th>165</th>\n",
       "      <td>5.5</td>\n",
       "      <td>6</td>\n",
       "      <td>5.924959</td>\n",
       "      <td>4.2715</td>\n",
       "      <td>0</td>\n",
       "    </tr>\n",
       "    <tr>\n",
       "      <th>166</th>\n",
       "      <td>5.5</td>\n",
       "      <td>7</td>\n",
       "      <td>5.334228</td>\n",
       "      <td>3.0700</td>\n",
       "      <td>0</td>\n",
       "    </tr>\n",
       "    <tr>\n",
       "      <th>167</th>\n",
       "      <td>5.5</td>\n",
       "      <td>8</td>\n",
       "      <td>1.699336</td>\n",
       "      <td>1.1250</td>\n",
       "      <td>0</td>\n",
       "    </tr>\n",
       "  </tbody>\n",
       "</table>\n",
       "<p>168 rows × 5 columns</p>\n",
       "</div>"
      ],
      "text/plain": [
       "     indiv  timept         x       y  StatusNum\n",
       "0      1.2       0  1.029504  8.1210          0\n",
       "1      1.2       1  0.753744  7.3595          0\n",
       "2      1.2       2  1.506007  6.3110          0\n",
       "3      1.2       3  1.282567  6.8565          0\n",
       "4      1.2       4  1.715615  7.2115          0\n",
       "..     ...     ...       ...     ...        ...\n",
       "163    5.5       4  7.276801  7.1625          0\n",
       "164    5.5       5  4.708071  4.6865          0\n",
       "165    5.5       6  5.924959  4.2715          0\n",
       "166    5.5       7  5.334228  3.0700          0\n",
       "167    5.5       8  1.699336  1.1250          0\n",
       "\n",
       "[168 rows x 5 columns]"
      ]
     },
     "execution_count": 34,
     "metadata": {},
     "output_type": "execute_result"
    }
   ],
   "source": [
    "data1"
   ]
  },
  {
   "cell_type": "code",
   "execution_count": 38,
   "id": "a83be6ca",
   "metadata": {},
   "outputs": [
    {
     "data": {
      "text/html": [
       "<div>\n",
       "<style scoped>\n",
       "    .dataframe tbody tr th:only-of-type {\n",
       "        vertical-align: middle;\n",
       "    }\n",
       "\n",
       "    .dataframe tbody tr th {\n",
       "        vertical-align: top;\n",
       "    }\n",
       "\n",
       "    .dataframe thead th {\n",
       "        text-align: right;\n",
       "    }\n",
       "</style>\n",
       "<table border=\"1\" class=\"dataframe\">\n",
       "  <thead>\n",
       "    <tr style=\"text-align: right;\">\n",
       "      <th></th>\n",
       "      <th>indiv</th>\n",
       "      <th>timept</th>\n",
       "      <th>x</th>\n",
       "      <th>y</th>\n",
       "      <th>StatusNum</th>\n",
       "    </tr>\n",
       "  </thead>\n",
       "  <tbody>\n",
       "    <tr>\n",
       "      <th>0</th>\n",
       "      <td>0.145042</td>\n",
       "      <td>0.000000</td>\n",
       "      <td>0.124434</td>\n",
       "      <td>0.981570</td>\n",
       "      <td>0.0</td>\n",
       "    </tr>\n",
       "    <tr>\n",
       "      <th>1</th>\n",
       "      <td>0.158707</td>\n",
       "      <td>0.132256</td>\n",
       "      <td>0.099687</td>\n",
       "      <td>0.973336</td>\n",
       "      <td>0.0</td>\n",
       "    </tr>\n",
       "    <tr>\n",
       "      <th>2</th>\n",
       "      <td>0.174047</td>\n",
       "      <td>0.290078</td>\n",
       "      <td>0.218430</td>\n",
       "      <td>0.915342</td>\n",
       "      <td>0.0</td>\n",
       "    </tr>\n",
       "    <tr>\n",
       "      <th>3</th>\n",
       "      <td>0.156099</td>\n",
       "      <td>0.390247</td>\n",
       "      <td>0.166840</td>\n",
       "      <td>0.891911</td>\n",
       "      <td>0.0</td>\n",
       "    </tr>\n",
       "    <tr>\n",
       "      <th>4</th>\n",
       "      <td>0.141041</td>\n",
       "      <td>0.470136</td>\n",
       "      <td>0.201643</td>\n",
       "      <td>0.847596</td>\n",
       "      <td>0.0</td>\n",
       "    </tr>\n",
       "  </tbody>\n",
       "</table>\n",
       "</div>"
      ],
      "text/plain": [
       "      indiv    timept         x         y  StatusNum\n",
       "0  0.145042  0.000000  0.124434  0.981570        0.0\n",
       "1  0.158707  0.132256  0.099687  0.973336        0.0\n",
       "2  0.174047  0.290078  0.218430  0.915342        0.0\n",
       "3  0.156099  0.390247  0.166840  0.891911        0.0\n",
       "4  0.141041  0.470136  0.201643  0.847596        0.0"
      ]
     },
     "execution_count": 38,
     "metadata": {},
     "output_type": "execute_result"
    }
   ],
   "source": [
    "from sklearn.preprocessing import normalize\n",
    "data_scaled = normalize(data1)\n",
    "data_scaled = pd.DataFrame(data_scaled, columns=data1.columns)\n",
    "data_scaled.head()"
   ]
  },
  {
   "cell_type": "code",
   "execution_count": 39,
   "id": "8cacb5ce",
   "metadata": {},
   "outputs": [
    {
     "data": {
      "image/png": "[encoded data removed]",
      "text/plain": [
       "<Figure size 720x504 with 1 Axes>"
      ]
     },
     "metadata": {
      "needs_background": "light"
     },
     "output_type": "display_data"
    }
   ],
   "source": [
    "import scipy.cluster.hierarchy as shc\n",
    "plt.figure(figsize=(10, 7))  \n",
    "plt.title(\"Dendrograms\")  \n",
    "dend = shc.dendrogram(shc.linkage(data_scaled, method='ward'))"
   ]
  },
  {
   "cell_type": "code",
   "execution_count": 40,
   "id": "8b9280a2",
   "metadata": {},
   "outputs": [
    {
     "data": {
      "text/plain": [
       "<matplotlib.lines.Line2D at 0x1dd350ceeb0>"
      ]
     },
     "execution_count": 40,
     "metadata": {},
     "output_type": "execute_result"
    },
    {
     "data": {
      "image/png": "[encoded data removed]",
      "text/plain": [
       "<Figure size 720x504 with 1 Axes>"
      ]
     },
     "metadata": {
      "needs_background": "light"
     },
     "output_type": "display_data"
    }
   ],
   "source": [
    "plt.figure(figsize=(10, 7))  \n",
    "plt.title(\"Dendrograms\")  \n",
    "dend = shc.dendrogram(shc.linkage(data_scaled, method='ward'))\n",
    "plt.axhline(y=6, color='r', linestyle='--')"
   ]
  },
  {
   "cell_type": "code",
   "execution_count": 41,
   "id": "1d949a98",
   "metadata": {},
   "outputs": [
    {
     "data": {
      "text/plain": [
       "array([0, 0, 0, 0, 0, 0, 0, 1, 1, 0, 0, 0, 0, 0, 0, 0, 1, 1, 1, 0, 0, 0,\n",
       "       0, 0, 0, 0, 0, 0, 0, 0, 0, 1, 1, 1, 1, 0, 0, 0, 0, 0, 0, 0, 1, 1,\n",
       "       1, 0, 0, 0, 0, 0, 0, 0, 0, 0, 0, 0, 0, 0, 0, 1, 1, 1, 1, 1, 0, 0,\n",
       "       0, 0, 0, 0, 0, 0, 0, 0, 1, 1, 0, 0, 0, 0, 0, 0, 0, 1, 1, 1, 0, 0,\n",
       "       0, 0, 0, 0, 0, 0, 0, 0, 0, 0, 1, 1, 0, 0, 0, 0, 0, 0, 0, 0, 1, 0,\n",
       "       0, 0, 0, 0, 0, 0, 0, 1, 1, 0, 0, 0, 0, 0, 0, 0, 0, 1, 1, 0, 0, 0,\n",
       "       0, 0, 0, 1, 1, 1, 0, 0, 0, 0, 0, 0, 0, 0, 1, 1, 1, 0, 0, 0, 0, 0,\n",
       "       0, 0, 1, 1, 1, 0, 0, 0, 0, 0, 0, 0, 0, 1], dtype=int64)"
      ]
     },
     "execution_count": 41,
     "metadata": {},
     "output_type": "execute_result"
    }
   ],
   "source": [
    "from sklearn.cluster import AgglomerativeClustering\n",
    "cluster = AgglomerativeClustering(n_clusters=2, affinity='euclidean', linkage='ward')  \n",
    "cluster.fit_predict(data_scaled)"
   ]
  },
  {
   "cell_type": "code",
   "execution_count": 43,
   "id": "ea58a982",
   "metadata": {},
   "outputs": [
    {
     "data": {
      "text/plain": [
       "<matplotlib.collections.PathCollection at 0x1dd374f6250>"
      ]
     },
     "execution_count": 43,
     "metadata": {},
     "output_type": "execute_result"
    },
    {
     "data": {
      "image/png": "[encoded data removed]",
      "text/plain": [
       "<Figure size 720x504 with 1 Axes>"
      ]
     },
     "metadata": {
      "needs_background": "light"
     },
     "output_type": "display_data"
    }
   ],
   "source": [
    "plt.figure(figsize=(10, 7))  \n",
    "plt.scatter(data_scaled['x'], data_scaled['y'], c=cluster.labels_)"
   ]
  },
  {
   "cell_type": "code",
   "execution_count": null,
   "id": "8919d529",
   "metadata": {},
   "outputs": [],
   "source": [
    "* from scipy.cluster.hierarchy import dendrogram, linkage #These functions cut hierarchical clusterings into flat clusterings \n",
    "or find the roots of the forest formed by a cut by providing the flat cluster ids of each observation.\n",
    "\n",
    "*data_scaled = normalize(data1)\n",
    "data_scaled = pd.DataFrame(data_scaled, columns=data1.columns)\n",
    "data_scaled.head()\n",
    "#Normalization is used for scaling input data set on a scale of 0 to 1 to have unit norm.\n",
    "\n",
    "*dend = shc.dendrogram(shc.linkage(data_scaled, method='ward'))\n",
    " #this method is used to minimize the variance between clusters\n",
    "\n",
    "*dend = shc.dendrogram(shc.linkage(data_scaled, method='ward'))#it looks at cluster analysis as an analysis of variance problem, instead of using distance metrics or measures\n",
    "#of association\n",
    "\n",
    "*dend = shc.dendrogram(shc.linkage(data_scaled, method='ward'))\n",
    " plt.axhline(y=6, color='r', linestyle='--')\n",
    " #Recursively merges pair of clusters of sample data; uses linkage distance.\n",
    "\n",
    "*plt.scatter(data_scaled['x'], data_scaled['y'], c=cluster.labels_)#we scatter to explore the relationship between two variables."
   ]
  }
 ],
 "metadata": {
  "kernelspec": {
   "display_name": "Python 3 (ipykernel)",
   "language": "python",
   "name": "python3"
  },
  "language_info": {
   "codemirror_mode": {
    "name": "ipython",
    "version": 3
   },
   "file_extension": ".py",
   "mimetype": "text/x-python",
   "name": "python",
   "nbconvert_exporter": "python",
   "pygments_lexer": "ipython3",
   "version": "3.9.12"
  }
 },
 "nbformat": 4,
 "nbformat_minor": 5
}
